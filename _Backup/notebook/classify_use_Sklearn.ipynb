{
 "metadata": {
  "name": ""
 },
 "nbformat": 3,
 "nbformat_minor": 0,
 "worksheets": [
  {
   "cells": [
    {
     "cell_type": "markdown",
     "metadata": {},
     "source": [
      "# \u52a0\u8f7d\u6570\u636e\u96c6\n",
      "\u8fd9\u91cc\u6211\u4f7f\u7528pandas\u6765\u52a0\u8f7d\u6570\u636e\u96c6\uff0c\u6570\u636e\u96c6\u91c7\u7528[kaggle\u7684titanic\u7684\u6570\u636e\u96c6](https://www.kaggle.com/c/titanic-gettingStarted/data)\uff0c\u4e0b\u8f7dtrain.csv\u3002"
     ]
    },
    {
     "cell_type": "code",
     "collapsed": false,
     "input": [
      "import pandas as pd\n",
      "df = pd.read_csv('train.csv')\n",
      "df = df.fillna(0) #\u5c06\u7f3a\u5931\u503c\u90fd\u66ff\u6362\u4e3a0"
     ],
     "language": "python",
     "metadata": {},
     "outputs": [],
     "prompt_number": 2
    },
    {
     "cell_type": "code",
     "collapsed": false,
     "input": [
      "df.head()"
     ],
     "language": "python",
     "metadata": {},
     "outputs": [
      {
       "html": [
        "<div style=\"max-height:1000px;max-width:1500px;overflow:auto;\">\n",
        "<table border=\"1\" class=\"dataframe\">\n",
        "  <thead>\n",
        "    <tr style=\"text-align: right;\">\n",
        "      <th></th>\n",
        "      <th>PassengerId</th>\n",
        "      <th>Survived</th>\n",
        "      <th>Pclass</th>\n",
        "      <th>Name</th>\n",
        "      <th>Sex</th>\n",
        "      <th>Age</th>\n",
        "      <th>SibSp</th>\n",
        "      <th>Parch</th>\n",
        "      <th>Ticket</th>\n",
        "      <th>Fare</th>\n",
        "      <th>Cabin</th>\n",
        "      <th>Embarked</th>\n",
        "    </tr>\n",
        "  </thead>\n",
        "  <tbody>\n",
        "    <tr>\n",
        "      <th>0</th>\n",
        "      <td> 1</td>\n",
        "      <td> 0</td>\n",
        "      <td> 3</td>\n",
        "      <td>                           Braund, Mr. Owen Harris</td>\n",
        "      <td>   male</td>\n",
        "      <td> 22</td>\n",
        "      <td> 1</td>\n",
        "      <td> 0</td>\n",
        "      <td>        A/5 21171</td>\n",
        "      <td>  7.2500</td>\n",
        "      <td>    0</td>\n",
        "      <td> S</td>\n",
        "    </tr>\n",
        "    <tr>\n",
        "      <th>1</th>\n",
        "      <td> 2</td>\n",
        "      <td> 1</td>\n",
        "      <td> 1</td>\n",
        "      <td> Cumings, Mrs. John Bradley (Florence Briggs Th...</td>\n",
        "      <td> female</td>\n",
        "      <td> 38</td>\n",
        "      <td> 1</td>\n",
        "      <td> 0</td>\n",
        "      <td>         PC 17599</td>\n",
        "      <td> 71.2833</td>\n",
        "      <td>  C85</td>\n",
        "      <td> C</td>\n",
        "    </tr>\n",
        "    <tr>\n",
        "      <th>2</th>\n",
        "      <td> 3</td>\n",
        "      <td> 1</td>\n",
        "      <td> 3</td>\n",
        "      <td>                            Heikkinen, Miss. Laina</td>\n",
        "      <td> female</td>\n",
        "      <td> 26</td>\n",
        "      <td> 0</td>\n",
        "      <td> 0</td>\n",
        "      <td> STON/O2. 3101282</td>\n",
        "      <td>  7.9250</td>\n",
        "      <td>    0</td>\n",
        "      <td> S</td>\n",
        "    </tr>\n",
        "    <tr>\n",
        "      <th>3</th>\n",
        "      <td> 4</td>\n",
        "      <td> 1</td>\n",
        "      <td> 1</td>\n",
        "      <td>      Futrelle, Mrs. Jacques Heath (Lily May Peel)</td>\n",
        "      <td> female</td>\n",
        "      <td> 35</td>\n",
        "      <td> 1</td>\n",
        "      <td> 0</td>\n",
        "      <td>           113803</td>\n",
        "      <td> 53.1000</td>\n",
        "      <td> C123</td>\n",
        "      <td> S</td>\n",
        "    </tr>\n",
        "    <tr>\n",
        "      <th>4</th>\n",
        "      <td> 5</td>\n",
        "      <td> 0</td>\n",
        "      <td> 3</td>\n",
        "      <td>                          Allen, Mr. William Henry</td>\n",
        "      <td>   male</td>\n",
        "      <td> 35</td>\n",
        "      <td> 0</td>\n",
        "      <td> 0</td>\n",
        "      <td>           373450</td>\n",
        "      <td>  8.0500</td>\n",
        "      <td>    0</td>\n",
        "      <td> S</td>\n",
        "    </tr>\n",
        "  </tbody>\n",
        "</table>\n",
        "<p>5 rows \u00d7 12 columns</p>\n",
        "</div>"
       ],
       "metadata": {},
       "output_type": "pyout",
       "prompt_number": 3,
       "text": [
        "   PassengerId  Survived  Pclass  \\\n",
        "0            1         0       3   \n",
        "1            2         1       1   \n",
        "2            3         1       3   \n",
        "3            4         1       1   \n",
        "4            5         0       3   \n",
        "\n",
        "                                                Name     Sex  Age  SibSp  \\\n",
        "0                            Braund, Mr. Owen Harris    male   22      1   \n",
        "1  Cumings, Mrs. John Bradley (Florence Briggs Th...  female   38      1   \n",
        "2                             Heikkinen, Miss. Laina  female   26      0   \n",
        "3       Futrelle, Mrs. Jacques Heath (Lily May Peel)  female   35      1   \n",
        "4                           Allen, Mr. William Henry    male   35      0   \n",
        "\n",
        "   Parch            Ticket     Fare Cabin Embarked  \n",
        "0      0         A/5 21171   7.2500     0        S  \n",
        "1      0          PC 17599  71.2833   C85        C  \n",
        "2      0  STON/O2. 3101282   7.9250     0        S  \n",
        "3      0            113803  53.1000  C123        S  \n",
        "4      0            373450   8.0500     0        S  \n",
        "\n",
        "[5 rows x 12 columns]"
       ]
      }
     ],
     "prompt_number": 3
    },
    {
     "cell_type": "code",
     "collapsed": false,
     "input": [
      "len(df)"
     ],
     "language": "python",
     "metadata": {},
     "outputs": [
      {
       "metadata": {},
       "output_type": "pyout",
       "prompt_number": 4,
       "text": [
        "891"
       ]
      }
     ],
     "prompt_number": 4
    },
    {
     "cell_type": "markdown",
     "metadata": {},
     "source": [
      "\u53ef\u4ee5\u770b\u5230\u8bad\u7ec3\u96c6\u4e2d\u5171\u6709891\u6761\u8bb0\u5f55\uff0c\u670912\u4e2a\u5217\uff08\u5176\u4e2d\u4e00\u5217Survived\u662f\u76ee\u6807\u5206\u7c7b\uff09\u3002\u5c06\u6570\u636e\u96c6\u5206\u4e3a\u7279\u5f81\u96c6\u548c\u76ee\u6807\u5206\u7c7b\u96c6\uff0c\u4e24\u4e2aDataFrame\u3002"
     ]
    },
    {
     "cell_type": "code",
     "collapsed": false,
     "input": [
      "cols = set(df.columns)\n",
      "cols.remove('Survived')\n",
      "x = df.ix[:,cols]\n",
      "y = df['Survived'].values"
     ],
     "language": "python",
     "metadata": {},
     "outputs": [],
     "prompt_number": 5
    },
    {
     "cell_type": "markdown",
     "metadata": {},
     "source": [
      "\u7531\u4e8eSklearn\u4e3a\u4e86\u6548\u7387\uff0c\u63a5\u53d7\u7684\u7279\u5f81\u6570\u636e\u7c7b\u578b\u662fdtype=np.float32\u4ee5\u4fbf\u83b7\u5f97\u6700\u4f73\u7684\u7b97\u6cd5\u6548\u7387\u3002\u56e0\u6b64\uff0c\u5bf9\u4e8e\u7c7b\u522b\u7c7b\u578b\u7684\u7279\u5f81\u5c31\u9700\u8981\u8f6c\u5316\u4e3a\u5411\u91cf\u3002Sklearn\u63d0\u4f9b\u4e86DictVectorizer\u7c7b\u5c06\u7c7b\u522b\u7684\u7279\u5f81\u8f6c\u5316\u4e3a\u5411\u91cf\u3002DictVectorizer\u63a5\u53d7\u8bb0\u5f55\u7684\u5f62\u5f0f\u4e3a\u5b57\u5178\u7684\u5217\u8868\u3002\u56e0\u6b64\u9700\u8981\u7528pandas\u7684to_dict\u65b9\u6cd5\u8f6c\u6362DataFrame\u3002"
     ]
    },
    {
     "cell_type": "code",
     "collapsed": false,
     "input": [
      "from sklearn.feature_extraction import DictVectorizer\n",
      "v = DictVectorizer()\n",
      "x = v.fit_transform(x.to_dict(outtype='records')).toarray()"
     ],
     "language": "python",
     "metadata": {},
     "outputs": [],
     "prompt_number": 6
    },
    {
     "cell_type": "markdown",
     "metadata": {},
     "source": [
      "\u8ba9\u6211\u4eec\u6bd4\u8f83\u4e00\u4e0b\u540c\u4e00\u4e2a\u5b9e\u4f8b\u7684\u539f\u59cb\u4fe1\u606f\u53ca\u5411\u91cf\u5316\u540e\u7684\u7ed3\u679c\u3002"
     ]
    },
    {
     "cell_type": "code",
     "collapsed": false,
     "input": [
      "print 'Vectorized:', x[10]\n",
      "print 'Unvectorized:', v.inverse_transform(x[10])"
     ],
     "language": "python",
     "metadata": {},
     "outputs": [
      {
       "output_type": "stream",
       "stream": "stdout",
       "text": [
        "Vectorized: [ 4.  0.  0. ...,  0.  0.  0.]\n",
        "Unvectorized: [{'Fare': 16.699999999999999, 'Name=Sandstrom, Miss. Marguerite Rut': 1.0, 'Embarked=S': 1.0, 'Age': 4.0, 'Sex=female': 1.0, 'Parch': 1.0, 'Pclass': 3.0, 'Ticket=PP 9549': 1.0, 'Cabin=G6': 1.0, 'SibSp': 1.0, 'PassengerId': 11.0}]\n"
       ]
      }
     ],
     "prompt_number": 7
    },
    {
     "cell_type": "markdown",
     "metadata": {},
     "source": [
      "\u5982\u679c\u5206\u7c7b\u7684\u6807\u7b7e\u4e5f\u662f\u5b57\u7b26\u7684\uff0c\u90a3\u4e48\u5c31\u8fd8\u9700\u8981\u7528[LabelEncoder](http://scikit-learn.org/stable/modules/generated/sklearn.preprocessing.LabelEncoder.html)\u65b9\u6cd5\u8fdb\u884c\u8f6c\u5316\u3002"
     ]
    },
    {
     "cell_type": "markdown",
     "metadata": {},
     "source": [
      "\u5c06\u6570\u636e\u96c6\u5206\u6210\u8bad\u7ec3\u96c6\u548c\u6d4b\u8bd5\u96c6\u3002"
     ]
    },
    {
     "cell_type": "code",
     "collapsed": false,
     "input": [
      "from sklearn.cross_validation import train_test_split\n",
      "\n",
      "data_train, data_test, target_train, target_test = train_test_split(x, y)"
     ],
     "language": "python",
     "metadata": {},
     "outputs": [],
     "prompt_number": 8
    },
    {
     "cell_type": "code",
     "collapsed": false,
     "input": [
      "len(data_train)"
     ],
     "language": "python",
     "metadata": {},
     "outputs": [
      {
       "metadata": {},
       "output_type": "pyout",
       "prompt_number": 9,
       "text": [
        "668"
       ]
      }
     ],
     "prompt_number": 9
    },
    {
     "cell_type": "code",
     "collapsed": false,
     "input": [
      "len(data_test)"
     ],
     "language": "python",
     "metadata": {},
     "outputs": [
      {
       "metadata": {},
       "output_type": "pyout",
       "prompt_number": 10,
       "text": [
        "223"
       ]
      }
     ],
     "prompt_number": 10
    },
    {
     "cell_type": "markdown",
     "metadata": {},
     "source": [
      "\u9ed8\u8ba4\u662f\u4ee5\u6570\u636e\u96c6\u768425%\u4f5c\u4e3a\u6d4b\u8bd5\u96c6\u3002\u5230\u8fd9\u91cc\u4e3a\u6b62\uff0c\u7528\u4e8e\u8bad\u7ec3\u548c\u6d4b\u8bd5\u7684\u6570\u636e\u96c6\u90fd\u5df2\u7ecf\u51c6\u5907\u597d\u4e86\u3002\n",
      "# \u7528Sklearn\u505a\u5224\u522b\u5206\u6790"
     ]
    },
    {
     "cell_type": "markdown",
     "metadata": {},
     "source": [
      "##Sklearn\u8bad\u7ec3\u6a21\u578b\u7684\u57fa\u672c\u6d41\u7a0b"
     ]
    },
    {
     "cell_type": "code",
     "collapsed": false,
     "input": [
      "Model = EstimatorObject()\n",
      "Model.fit(dataset.data, dataset.target)\n",
      "dataset.data = dataset\n",
      "dataset.target = labels\n",
      "Model.predict(dataset.data)"
     ],
     "language": "python",
     "metadata": {},
     "outputs": []
    },
    {
     "cell_type": "markdown",
     "metadata": {},
     "source": [
      "\u8fd9\u91cc\u9009\u62e9[\u6734\u7d20\u8d1d\u53f6\u65af](http://scikit-learn.org/stable/modules/naive_bayes.html#gaussian-naive-bayes)\u3001[\u51b3\u7b56\u6811](http://scikit-learn.org/stable/modules/tree.html#classification)\u3001[\u968f\u673a\u68ee\u6797](http://scikit-learn.org/stable/modules/generated/sklearn.ensemble.RandomForestClassifier.html)\u548c[SVM](http://scikit-learn.org/stable/modules/svm.html#classification)\u6765\u505a\u4e00\u4e2a\u5bf9\u6bd4\u3002"
     ]
    },
    {
     "cell_type": "code",
     "collapsed": false,
     "input": [
      "from sklearn import cross_validation\n",
      "from sklearn.naive_bayes import GaussianNB\n",
      "from sklearn import tree\n",
      "from sklearn.ensemble import RandomForestClassifier\n",
      "from sklearn import svm\n",
      "import datetime\n",
      "estimators = {}\n",
      "estimators['bayes'] = GaussianNB()\n",
      "estimators['tree'] = tree.DecisionTreeClassifier()\n",
      "estimators['forest_100'] = RandomForestClassifier(n_estimators = 100)\n",
      "estimators['forest_10'] = RandomForestClassifier(n_estimators = 10)\n",
      "estimators['svm_c_rbf'] = svm.SVC()\n",
      "estimators['svm_c_linear'] = svm.SVC(kernel='linear')\n",
      "estimators['svm_linear'] = svm.LinearSVC()\n",
      "estimators['svm_nusvc'] = svm.NuSVC()"
     ],
     "language": "python",
     "metadata": {},
     "outputs": [],
     "prompt_number": 22
    },
    {
     "cell_type": "markdown",
     "metadata": {},
     "source": [
      "\u9996\u5148\u662f\u5b9a\u4e49\u5404\u4e2amodel\u6240\u7528\u7684\u7b97\u6cd5\u3002"
     ]
    },
    {
     "cell_type": "code",
     "collapsed": false,
     "input": [
      "for k in estimators.keys():\n",
      "    start_time = datetime.datetime.now()\n",
      "    print '----%s----' % k\n",
      "    estimators[k] = estimators[k].fit(data_train, target_train)\n",
      "    pred = estimators[k].predict(data_test)\n",
      "    print(\"%s Score: %0.2f\" % (k, estimators[k].score(data_test, target_test)))\n",
      "    scores = cross_validation.cross_val_score(estimators[k], data_test, target_test, cv=5)\n",
      "    print(\"%s Cross Avg. Score: %0.2f (+/- %0.2f)\" % (k, scores.mean(), scores.std() * 2))\n",
      "    end_time = datetime.datetime.now()\n",
      "    time_spend = end_time - start_time\n",
      "    print(\"%s Time: %0.2f\" % (k, time_spend.total_seconds()))"
     ],
     "language": "python",
     "metadata": {},
     "outputs": [
      {
       "output_type": "stream",
       "stream": "stdout",
       "text": [
        "----svm_c_rbf----\n",
        "svm_c_rbf Score: 0.63"
       ]
      },
      {
       "output_type": "stream",
       "stream": "stdout",
       "text": [
        "\n",
        "svm_c_rbf Cross Avg. Score: 0.54 (+/- 0.18)"
       ]
      },
      {
       "output_type": "stream",
       "stream": "stdout",
       "text": [
        "\n",
        "svm_c_rbf Time: 1.67\n",
        "----tree----\n",
        "tree Score: 0.81"
       ]
      },
      {
       "output_type": "stream",
       "stream": "stdout",
       "text": [
        "\n",
        "tree Cross Avg. Score: 0.75 (+/- 0.09)"
       ]
      },
      {
       "output_type": "stream",
       "stream": "stdout",
       "text": [
        "\n",
        "tree Time: 0.90\n",
        "----forest_10----\n",
        "forest_10 Score: 0.83"
       ]
      },
      {
       "output_type": "stream",
       "stream": "stdout",
       "text": [
        "\n",
        "forest_10 Cross Avg. Score: 0.80 (+/- 0.10)"
       ]
      },
      {
       "output_type": "stream",
       "stream": "stdout",
       "text": [
        "\n",
        "forest_10 Time: 0.56\n",
        "----forest_100----\n",
        "forest_100 Score: 0.84"
       ]
      },
      {
       "output_type": "stream",
       "stream": "stdout",
       "text": [
        "\n",
        "forest_100 Cross Avg. Score: 0.80 (+/- 0.14)"
       ]
      },
      {
       "output_type": "stream",
       "stream": "stdout",
       "text": [
        "\n",
        "forest_100 Time: 5.38\n",
        "----svm_linear----\n",
        "svm_linear Score: 0.74"
       ]
      },
      {
       "output_type": "stream",
       "stream": "stdout",
       "text": [
        "\n",
        "svm_linear Cross Avg. Score: 0.65 (+/- 0.18)"
       ]
      },
      {
       "output_type": "stream",
       "stream": "stdout",
       "text": [
        "\n",
        "svm_linear Time: 0.15\n",
        "----svm_nusvc----\n",
        "svm_nusvc Score: 0.63"
       ]
      },
      {
       "output_type": "stream",
       "stream": "stdout",
       "text": [
        "\n",
        "svm_nusvc Cross Avg. Score: 0.55 (+/- 0.21)"
       ]
      },
      {
       "output_type": "stream",
       "stream": "stdout",
       "text": [
        "\n",
        "svm_nusvc Time: 1.62\n",
        "----bayes----\n",
        "bayes Score: 0.44"
       ]
      },
      {
       "output_type": "stream",
       "stream": "stdout",
       "text": [
        "\n",
        "bayes Cross Avg. Score: 0.47 (+/- 0.07)"
       ]
      },
      {
       "output_type": "stream",
       "stream": "stdout",
       "text": [
        "\n",
        "bayes Time: 0.16\n",
        "----svm_c_linear----\n",
        "svm_c_linear Score: 0.83"
       ]
      },
      {
       "output_type": "stream",
       "stream": "stdout",
       "text": [
        "\n",
        "svm_c_linear Cross Avg. Score: 0.79 (+/- 0.14)"
       ]
      },
      {
       "output_type": "stream",
       "stream": "stdout",
       "text": [
        "\n",
        "svm_c_linear Time: 465.57\n"
       ]
      }
     ],
     "prompt_number": 23
    },
    {
     "cell_type": "markdown",
     "metadata": {},
     "source": [
      "\u8fd9\u91cc\u901a\u8fc7\u7b97\u6cd5\u7684score\u65b9\u6cd5\u53cacross_validation\u6765\u8ba1\u7b97\u9884\u6d4b\u7684\u51c6\u786e\u6027\u3002\n",
      "\n",
      "\u53ef\u4ee5\u770b\u5230\u51c6\u786e\u6027\u6bd4\u8f83\u9ad8\u7684\u7b97\u6cd5\u9700\u8981\u7684\u65f6\u95f4\u4e5f\u4f1a\u589e\u52a0\u3002\u6027\u4ef7\u6bd4\u8f83\u9ad8\u7684\u7b97\u6cd5\u662f\u968f\u673a\u68ee\u6797\u3002\n",
      "\u8ba9\u6211\u4eec\u7528kaggle\u7ed9\u51fa\u7684test.csv\u7684\u6570\u636e\u96c6\u6d4b\u8bd5\u4e00\u4e0b\u3002"
     ]
    },
    {
     "cell_type": "code",
     "collapsed": false,
     "input": [
      "test = pd.read_csv('test.csv')\n",
      "test = test.fillna(0) \n",
      "test_d = test.to_dict(outtype='records')\n",
      "test_vec = v.transform(test_d).toarray()"
     ],
     "language": "python",
     "metadata": {},
     "outputs": [],
     "prompt_number": 13
    },
    {
     "cell_type": "markdown",
     "metadata": {},
     "source": [
      "\u8fd9\u91cc\u9700\u8981\u6ce8\u610f\u7684\u662ftest\u7684\u6570\u636e\u4e5f\u9700\u8981\u7ecf\u8fc7\u540c\u6837\u7684DictVectorizer\u8f6c\u6362\u3002"
     ]
    },
    {
     "cell_type": "code",
     "collapsed": false,
     "input": [
      "for k in estimators.keys():\n",
      "    estimators[k] = estimators[k].fit(x, y)\n",
      "    pred = estimators[k].predict(test_vec)\n",
      "    test['Survived'] = pred\n",
      "    test.to_csv(k + '.csv', cols=['Survived', 'PassengerId'], index=False)"
     ],
     "language": "python",
     "metadata": {},
     "outputs": []
    },
    {
     "cell_type": "markdown",
     "metadata": {},
     "source": [
      "\u597d\u4e86\uff0c\u5411Kaggle\u63d0\u4ea4\u4f60\u7684\u7ed3\u679c\u5427~"
     ]
    }
   ],
   "metadata": {}
  }
 ]
}