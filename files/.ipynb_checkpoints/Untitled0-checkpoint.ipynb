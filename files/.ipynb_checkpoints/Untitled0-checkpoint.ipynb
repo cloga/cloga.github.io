{
 "metadata": {
  "name": "",
  "signature": "sha256:f70d51e110243abaf239441aea7da37062a5c9a5b572215d5b1a524a47a6810e"
 },
 "nbformat": 3,
 "nbformat_minor": 0,
 "worksheets": []
}