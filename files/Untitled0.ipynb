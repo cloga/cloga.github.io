{
 "metadata": {
  "name": "",
  "signature": "sha256:ed2dd9f3e46ff10989b2ba7e29d08248c0564b9158ea1c708605413c577c2ed7"
 },
 "nbformat": 3,
 "nbformat_minor": 0,
 "worksheets": [
  {
   "cells": [
    {
     "cell_type": "code",
     "collapsed": false,
     "input": [
      "import pandas as pd"
     ],
     "language": "python",
     "metadata": {},
     "outputs": [],
     "prompt_number": 1
    },
    {
     "cell_type": "code",
     "collapsed": false,
     "input": [
      "data = pd.read_csv('data_sample_for_github.csv', encoding='gb18030')"
     ],
     "language": "python",
     "metadata": {},
     "outputs": [],
     "prompt_number": 13
    },
    {
     "cell_type": "code",
     "collapsed": false,
     "input": [
      "data[u'director'].isnull().value_counts()"
     ],
     "language": "python",
     "metadata": {},
     "outputs": [
      {
       "metadata": {},
       "output_type": "pyout",
       "prompt_number": 14,
       "text": [
        "False    486\n",
        "True      14\n",
        "dtype: int64"
       ]
      }
     ],
     "prompt_number": 14
    },
    {
     "cell_type": "code",
     "collapsed": false,
     "input": [
      "data.groupby([u'director'])['uid'].count().order(ascending=False)"
     ],
     "language": "python",
     "metadata": {},
     "outputs": [
      {
       "metadata": {},
       "output_type": "pyout",
       "prompt_number": 15,
       "text": [
        "director\n",
        "\u738b\u5bb6\u536b              7\n",
        "\u5bab\u5d0e\u9a8f              6\n",
        "\u8482\u59c6\u00b7\u6ce2\u987f            4\n",
        "\u5927\u536b\u00b7\u82ac\u5947            4\n",
        "\u514b\u65e5\u4ec0\u6258\u592b\u00b7\u57fa\u8036\u65af\u6d1b\u592b\u65af\u57fa    4\n",
        "\u9a6c\u4e01\u00b7\u65af\u79d1\u585e\u65af          4\n",
        "\u5ca9\u4e95\u4fca\u4e8c             4\n",
        "\u4f0d\u8fea\u00b7\u827e\u4f26            4\n",
        "\u514b\u91cc\u65af\u6258\u5f17\u00b7\u8bfa\u5170         4\n",
        "\u5f7c\u5f97\u00b7\u6770\u514b\u900a           4\n",
        "\u8fc8\u514b\u00b7\u5185\u5a01\u5c14           3\n",
        "\u963f\u5c14\u5f17\u96f7\u5fb7\u00b7\u5e0c\u533a\u67ef\u514b       3\n",
        "\u7f57\u4f2f\u00b7\u83b1\u7eb3            3\n",
        "\u683c\u65af\u00b7\u8303\u00b7\u6851\u7279          3\n",
        "\u8a79\u59c6\u65af\u00b7\u5361\u6885\u9686          3\n",
        "...\n",
        "\u7406\u67e5\u5fb7\u00b7\u62c9\u00b7\u683c\u62c9\u6587\u65af            1\n",
        "\u7406\u67e5\u5fb7\u00b7\u67ef\u8482\u65af               1\n",
        "\u745e\u6069\u00b7\u58a8\u83f2                 1\n",
        "\u74e6\u91cc\u4e1d\u00b7\u4faf\u8d5b\u56e0               1\n",
        "\u76ae\u5c14\u4e54\u00b7\u6c57\u5361\u8428\u7f57              1\n",
        "\u7c73\u5bb6\u5c71                   1\n",
        "\u7ea6\u7ff0\u00b7\u675c\u6839                 1\n",
        "\u7c73\u5f00\u6717\u57fa\u7f57\u00b7\u5b89\u4e1c\u5c3c\u5965\u5c3c\u3001\u7ef4\u59c6\u00b7\u6587\u5fb7\u65af    1\n",
        "\u7c73\u5f00\u6717\u57fa\u7f57\u00b7\u5f17\u5170\u9a6c\u6c40\u8bfa           1\n",
        "\u7c73\u6797\u5b8f\u660c                  1\n",
        "\u7c73\u6b47\u5c14\u00b7\u8d21\u5fb7\u91cc               1\n",
        "\u7c73\u6d1b\u65af\u00b7\u798f\u5c14\u66fc               1\n",
        "\u7d22\u83f2\u4e9a\u00b7\u79d1\u6ce2\u62c9               1\n",
        "\u7ea6\u7ff0\u00b7\u5361\u5c3c                 1\n",
        "Charles Dance         1\n",
        "Name: uid, Length: 373, dtype: int64"
       ]
      }
     ],
     "prompt_number": 15
    },
    {
     "cell_type": "code",
     "collapsed": false,
     "input": [
      "data.info()"
     ],
     "language": "python",
     "metadata": {},
     "outputs": [
      {
       "output_type": "stream",
       "stream": "stdout",
       "text": [
        "<class 'pandas.core.frame.DataFrame'>\n",
        "Int64Index: 500 entries, 0 to 499\n",
        "Data columns (total 16 columns):\n",
        "uid                        500 non-null int64\n",
        "movie_id                   500 non-null int64\n",
        "movie_name                 500 non-null object\n",
        "url                        500 non-null object\n",
        "status                     500 non-null object\n",
        "score                      500 non-null object\n",
        "type                       483 non-null object\n",
        "country                    486 non-null object\n",
        "year                       486 non-null float64\n",
        "actor                      479 non-null object\n",
        "director                   486 non-null object\n",
        "playwright                 476 non-null object\n",
        "length                     486 non-null object\n",
        "group3_item_count          500 non-null int64\n",
        "group5_item_count          500 non-null int64\n",
        "group3_item_group_count    500 non-null int64\n",
        "dtypes: float64(1), int64(5), object(10)"
       ]
      }
     ],
     "prompt_number": 16
    },
    {
     "cell_type": "code",
     "collapsed": false,
     "input": [
      "values = 'uid'\n",
      "index = [u'movie_id', u'movie_name', u'url', u'type', u'country', u'year', u'actor', u'director', u'playwright']\n",
      "columns=[u'group5_item_count']\n",
      "top_items = data.pivot_table(values, index, columns, aggfunc='count', fill_value=0).reset_index()"
     ],
     "language": "python",
     "metadata": {},
     "outputs": [],
     "prompt_number": 17
    },
    {
     "cell_type": "code",
     "collapsed": false,
     "input": [
      "top_items.groupby([u'director'])[2].sum().order(ascending=False)"
     ],
     "language": "python",
     "metadata": {},
     "outputs": [
      {
       "metadata": {},
       "output_type": "pyout",
       "prompt_number": 18,
       "text": [
        "director\n",
        "\u9ed1\u6cfd\u660e              15\n",
        "\u738b\u5bb6\u536b               7\n",
        "\u5bab\u5d0e\u9a8f               5\n",
        "\u9a6c\u4e01\u00b7\u65af\u79d1\u585e\u65af           4\n",
        "\u5927\u536b\u00b7\u82ac\u5947             4\n",
        "\u4f0d\u8fea\u00b7\u827e\u4f26             4\n",
        "\u8482\u59c6\u00b7\u6ce2\u987f             4\n",
        "\u514b\u65e5\u4ec0\u6258\u592b\u00b7\u57fa\u8036\u65af\u6d1b\u592b\u65af\u57fa     4\n",
        "\u5ca9\u4e95\u4fca\u4e8c              4\n",
        "\u5f7c\u5f97\u00b7\u6770\u514b\u900a            4\n",
        "\u514b\u91cc\u65af\u6258\u5f17\u00b7\u8bfa\u5170          4\n",
        "\u963f\u5c14\u5f17\u96f7\u5fb7\u00b7\u5e0c\u533a\u67ef\u514b        3\n",
        "\u4f69\u5fb7\u7f57\u00b7\u963f\u83ab\u591a\u74e6          3\n",
        "\u5f17\u6717\u897f\u65af\u00b7\u798f\u7279\u00b7\u79d1\u6ce2\u62c9       3\n",
        "\u7406\u67e5\u5fb7\u00b7\u6797\u514b\u83b1\u7279          3\n",
        "...\n",
        "\u7406\u67e5\u5fb7\u00b7\u62c9\u00b7\u683c\u62c9\u6587\u65af            1\n",
        "\u7406\u67e5\u5fb7\u00b7\u67ef\u8482\u65af               1\n",
        "\u745e\u6069\u00b7\u58a8\u83f2                 1\n",
        "\u74e6\u91cc\u4e1d\u00b7\u4faf\u8d5b\u56e0               1\n",
        "\u76ae\u5c14\u4e54\u00b7\u6c57\u5361\u8428\u7f57              1\n",
        "\u7c73\u5bb6\u5c71                   1\n",
        "\u7ea6\u7ff0\u00b7\u675c\u6839                 1\n",
        "\u7c73\u5f00\u6717\u57fa\u7f57\u00b7\u5b89\u4e1c\u5c3c\u5965\u5c3c\u3001\u7ef4\u59c6\u00b7\u6587\u5fb7\u65af    1\n",
        "\u7c73\u5f00\u6717\u57fa\u7f57\u00b7\u5f17\u5170\u9a6c\u6c40\u8bfa           1\n",
        "\u7c73\u6797\u5b8f\u660c                  1\n",
        "\u7c73\u6b47\u5c14\u00b7\u8d21\u5fb7\u91cc               1\n",
        "\u7c73\u6d1b\u65af\u00b7\u798f\u5c14\u66fc               1\n",
        "\u7d22\u83f2\u4e9a\u00b7\u79d1\u6ce2\u62c9               1\n",
        "\u7ea6\u7ff0\u00b7\u5361\u5c3c                 1\n",
        "Charles Dance         1\n",
        "Name: 2, Length: 373, dtype: int64"
       ]
      }
     ],
     "prompt_number": 18
    },
    {
     "cell_type": "code",
     "collapsed": false,
     "input": [],
     "language": "python",
     "metadata": {},
     "outputs": []
    }
   ],
   "metadata": {}
  }
 ]
}