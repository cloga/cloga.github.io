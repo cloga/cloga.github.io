{
 "metadata": {
  "name": ""
 },
 "nbformat": 3,
 "nbformat_minor": 0,
 "worksheets": [
  {
   "cells": [
    {
     "cell_type": "markdown",
     "metadata": {},
     "source": [
      "# Quick Question2"
     ]
    },
    {
     "cell_type": "code",
     "collapsed": false,
     "input": [
      "%matplotlib inline\n",
      "import numpy as np\n",
      "import pandas as pd\n",
      "from sklearn.linear_model import LinearRegression\n",
      "import statsmodels"
     ],
     "language": "python",
     "metadata": {},
     "outputs": [],
     "prompt_number": 11
    },
    {
     "cell_type": "code",
     "collapsed": false,
     "input": [
      "ob = [[0,2], [1, 2], [1, 8]]\n",
      "def get_y(x):\n",
      "    return 3 * x + 2\n",
      "def get_SSE(y_r, y_pre):\n",
      "    SSE = 0\n",
      "    for i, v in enumerate(y_r):\n",
      "        SSE += (y_r[i] - y_pre[i]) ** 2\n",
      "    return SSE\n",
      "y_r = [i[1] for i in ob]\n",
      "x_l = [i[0] for i in ob]"
     ],
     "language": "python",
     "metadata": {},
     "outputs": [],
     "prompt_number": 16
    },
    {
     "cell_type": "code",
     "collapsed": false,
     "input": [
      "y_pre = [get_y(x) for x in x_l]"
     ],
     "language": "python",
     "metadata": {},
     "outputs": [],
     "prompt_number": 17
    },
    {
     "cell_type": "code",
     "collapsed": false,
     "input": [
      "SSE = get_SSE(y_r, y_pre)"
     ],
     "language": "python",
     "metadata": {},
     "outputs": [],
     "prompt_number": 34
    },
    {
     "cell_type": "code",
     "collapsed": false,
     "input": [
      "y_r[1]"
     ],
     "language": "python",
     "metadata": {},
     "outputs": [
      {
       "metadata": {},
       "output_type": "pyout",
       "prompt_number": 13,
       "text": [
        "2"
       ]
      }
     ],
     "prompt_number": 13
    },
    {
     "cell_type": "code",
     "collapsed": false,
     "input": [
      "y_pre[1]"
     ],
     "language": "python",
     "metadata": {},
     "outputs": [
      {
       "metadata": {},
       "output_type": "pyout",
       "prompt_number": 14,
       "text": [
        "5"
       ]
      }
     ],
     "prompt_number": 14
    },
    {
     "cell_type": "code",
     "collapsed": false,
     "input": [
      "np.array(y_r).var()"
     ],
     "language": "python",
     "metadata": {},
     "outputs": [
      {
       "metadata": {},
       "output_type": "pyout",
       "prompt_number": 30,
       "text": [
        "8.0"
       ]
      }
     ],
     "prompt_number": 30
    },
    {
     "cell_type": "code",
     "collapsed": false,
     "input": [
      "y_r = np.array(y_r)"
     ],
     "language": "python",
     "metadata": {},
     "outputs": [],
     "prompt_number": 23
    },
    {
     "cell_type": "code",
     "collapsed": false,
     "input": [
      "y_r"
     ],
     "language": "python",
     "metadata": {},
     "outputs": [
      {
       "metadata": {},
       "output_type": "pyout",
       "prompt_number": 24,
       "text": [
        "array([2, 2, 8])"
       ]
      }
     ],
     "prompt_number": 24
    },
    {
     "cell_type": "code",
     "collapsed": false,
     "input": [
      "y_r.mean()"
     ],
     "language": "python",
     "metadata": {},
     "outputs": [
      {
       "metadata": {},
       "output_type": "pyout",
       "prompt_number": 25,
       "text": [
        "4.0"
       ]
      }
     ],
     "prompt_number": 25
    },
    {
     "cell_type": "code",
     "collapsed": false,
     "input": [
      "y_r.std()"
     ],
     "language": "python",
     "metadata": {},
     "outputs": [
      {
       "metadata": {},
       "output_type": "pyout",
       "prompt_number": 26,
       "text": [
        "2.8284271247461903"
       ]
      }
     ],
     "prompt_number": 26
    },
    {
     "cell_type": "code",
     "collapsed": false,
     "input": [
      "y_pre"
     ],
     "language": "python",
     "metadata": {},
     "outputs": [
      {
       "metadata": {},
       "output_type": "pyout",
       "prompt_number": 27,
       "text": [
        "[2, 5, 5]"
       ]
      }
     ],
     "prompt_number": 27
    },
    {
     "cell_type": "code",
     "collapsed": false,
     "input": [
      "y_r.var()"
     ],
     "language": "python",
     "metadata": {},
     "outputs": [
      {
       "metadata": {},
       "output_type": "pyout",
       "prompt_number": 28,
       "text": [
        "8.0"
       ]
      }
     ],
     "prompt_number": 28
    },
    {
     "cell_type": "code",
     "collapsed": false,
     "input": [
      "SST = get_SSE(y_r, [4, 4, 4])"
     ],
     "language": "python",
     "metadata": {},
     "outputs": [],
     "prompt_number": 33
    },
    {
     "cell_type": "code",
     "collapsed": false,
     "input": [
      "r2 = 1 -(SSE / float(SST))"
     ],
     "language": "python",
     "metadata": {},
     "outputs": [],
     "prompt_number": 39
    },
    {
     "cell_type": "code",
     "collapsed": false,
     "input": [
      "r2"
     ],
     "language": "python",
     "metadata": {},
     "outputs": [
      {
       "metadata": {},
       "output_type": "pyout",
       "prompt_number": 40,
       "text": [
        "0.25"
       ]
      }
     ],
     "prompt_number": 40
    },
    {
     "cell_type": "code",
     "collapsed": false,
     "input": [
      "np.array(y_r).mean()"
     ],
     "language": "python",
     "metadata": {},
     "outputs": [
      {
       "metadata": {},
       "output_type": "pyout",
       "prompt_number": 43,
       "text": [
        "4.0"
       ]
      }
     ],
     "prompt_number": 43
    },
    {
     "cell_type": "markdown",
     "metadata": {},
     "source": [
      "# Video 4"
     ]
    },
    {
     "cell_type": "code",
     "collapsed": false,
     "input": [
      "wine_url = 'https://courses.edx.org/c4x/MITx/15.071x/asset/wine.csv'\n",
      "wine_test_url = 'https://courses.edx.org/c4x/MITx/15.071x/asset/wine_test.csv'"
     ],
     "language": "python",
     "metadata": {},
     "outputs": [],
     "prompt_number": 3
    },
    {
     "cell_type": "code",
     "collapsed": false,
     "input": [
      "wine = pd.read_csv(wine_url)"
     ],
     "language": "python",
     "metadata": {},
     "outputs": [],
     "prompt_number": 41
    },
    {
     "cell_type": "code",
     "collapsed": false,
     "input": [
      "wine.dtypes"
     ],
     "language": "python",
     "metadata": {},
     "outputs": [
      {
       "metadata": {},
       "output_type": "pyout",
       "prompt_number": 11,
       "text": [
        "Year             int64\n",
        "Price          float64\n",
        "WinterRain       int64\n",
        "AGST           float64\n",
        "HarvestRain      int64\n",
        "Age              int64\n",
        "FrancePop      float64\n",
        "dtype: object"
       ]
      }
     ],
     "prompt_number": 11
    },
    {
     "cell_type": "code",
     "collapsed": false,
     "input": [
      "wine.shape"
     ],
     "language": "python",
     "metadata": {},
     "outputs": [
      {
       "metadata": {},
       "output_type": "pyout",
       "prompt_number": 12,
       "text": [
        "(25, 7)"
       ]
      }
     ],
     "prompt_number": 12
    },
    {
     "cell_type": "code",
     "collapsed": false,
     "input": [
      "model1 = LinearRegression().fit(wine[['AGST']], wine['Price'])\n",
      "print model1.score(wine[['AGST']], wine['Price'])\n",
      "print model1.coef_\n",
      "print model1.intercept_"
     ],
     "language": "python",
     "metadata": {},
     "outputs": [
      {
       "output_type": "stream",
       "stream": "stdout",
       "text": [
        "0.4350231678\n",
        "[ 0.63509431]\n",
        "-3.41776131349\n"
       ]
      }
     ],
     "prompt_number": 38
    },
    {
     "cell_type": "code",
     "collapsed": false,
     "input": [
      "y = wine['Price']\n",
      "X = wine[['AGST']]\n",
      "X = sm.add_constant(X)\n",
      "model1 = sm.OLS(y, X)\n",
      "res = model1.fit()\n",
      "print res.summary()"
     ],
     "language": "python",
     "metadata": {},
     "outputs": [
      {
       "output_type": "stream",
       "stream": "stdout",
       "text": [
        "                            OLS Regression Results                            \n",
        "==============================================================================\n",
        "Dep. Variable:                  Price   R-squared:                       0.435\n",
        "Model:                            OLS   Adj. R-squared:                  0.410\n",
        "Method:                 Least Squares   F-statistic:                     17.71\n",
        "Date:                Sat, 15 Mar 2014   Prob (F-statistic):           0.000335\n",
        "Time:                        10:37:11   Log-Likelihood:                -17.070\n",
        "No. Observations:                  25   AIC:                             38.14\n",
        "Df Residuals:                      23   BIC:                             40.58\n",
        "Df Model:                           1                                         \n",
        "==============================================================================\n",
        "                 coef    std err          t      P>|t|      [95.0% Conf. Int.]\n",
        "------------------------------------------------------------------------------\n",
        "const         -3.4178      2.494     -1.371      0.184        -8.576     1.740\n",
        "AGST           0.6351      0.151      4.208      0.000         0.323     0.947\n",
        "==============================================================================\n",
        "Omnibus:                        0.986   Durbin-Watson:                   1.758\n",
        "Prob(Omnibus):                  0.611   Jarque-Bera (JB):                0.790\n",
        "Skew:                           0.055   Prob(JB):                        0.674\n",
        "Kurtosis:                       2.136   Cond. No.                         414.\n",
        "==============================================================================\n"
       ]
      }
     ],
     "prompt_number": 48
    },
    {
     "cell_type": "code",
     "collapsed": false,
     "input": [],
     "language": "python",
     "metadata": {},
     "outputs": [
      {
       "output_type": "stream",
       "stream": "stdout",
       "text": [
        "                            OLS Regression Results                            \n",
        "==============================================================================\n",
        "Dep. Variable:                  Price   R-squared:                       0.995\n",
        "Model:                            OLS   Adj. R-squared:                  0.995\n",
        "Method:                 Least Squares   F-statistic:                     4846.\n",
        "Date:                Sat, 15 Mar 2014   Prob (F-statistic):           3.31e-29\n",
        "Time:                        10:25:43   Log-Likelihood:                -18.051\n",
        "No. Observations:                  25   AIC:                             38.10\n",
        "Df Residuals:                      24   BIC:                             39.32\n",
        "Df Model:                           1                                         \n",
        "==============================================================================\n",
        "                 coef    std err          t      P>|t|      [95.0% Conf. Int.]\n",
        "------------------------------------------------------------------------------\n",
        "AGST           0.4284      0.006     69.614      0.000         0.416     0.441\n",
        "==============================================================================\n",
        "Omnibus:                        1.148   Durbin-Watson:                   1.821\n",
        "Prob(Omnibus):                  0.563   Jarque-Bera (JB):                1.035\n",
        "Skew:                           0.322   Prob(JB):                        0.596\n",
        "Kurtosis:                       2.239   Cond. No.                         1.00\n",
        "==============================================================================\n"
       ]
      }
     ],
     "prompt_number": 36
    },
    {
     "cell_type": "code",
     "collapsed": false,
     "input": [
      "model1"
     ],
     "language": "python",
     "metadata": {},
     "outputs": [
      {
       "metadata": {},
       "output_type": "pyout",
       "prompt_number": 31,
       "text": [
        "<statsmodels.regression.linear_model.OLS at 0x10a70ab10>"
       ]
      }
     ],
     "prompt_number": 31
    },
    {
     "cell_type": "code",
     "collapsed": false,
     "input": [
      "wine['Price']"
     ],
     "language": "python",
     "metadata": {},
     "outputs": [
      {
       "metadata": {},
       "output_type": "pyout",
       "prompt_number": 30,
       "text": [
        "0     7.4950\n",
        "1     8.0393\n",
        "2     7.6858\n",
        "3     6.9845\n",
        "4     6.7772\n",
        "5     8.0757\n",
        "6     6.5188\n",
        "7     8.4937\n",
        "8     7.3880\n",
        "9     6.7127\n",
        "10    7.3094\n",
        "11    6.2518\n",
        "12    7.7443\n",
        "13    6.8398\n",
        "14    6.2435\n",
        "15    6.3459\n",
        "16    7.5883\n",
        "17    7.1934\n",
        "18    6.2049\n",
        "19    6.6367\n",
        "20    6.2941\n",
        "21    7.2920\n",
        "22    7.1211\n",
        "23    6.2587\n",
        "24    7.1860\n",
        "Name: Price, dtype: float64"
       ]
      }
     ],
     "prompt_number": 30
    },
    {
     "cell_type": "code",
     "collapsed": false,
     "input": [],
     "language": "python",
     "metadata": {},
     "outputs": []
    }
   ],
   "metadata": {}
  }
 ]
}