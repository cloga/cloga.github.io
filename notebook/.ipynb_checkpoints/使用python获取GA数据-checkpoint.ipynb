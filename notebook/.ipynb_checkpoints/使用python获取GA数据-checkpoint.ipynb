{
 "metadata": {
  "name": "",
  "signature": "sha256:bc7113d76e11030fced176865f0f168f2db00404f4d0b150e25f191a686df8f9"
 },
 "nbformat": 3,
 "nbformat_minor": 0,
 "worksheets": [
  {
   "cells": [
    {
     "cell_type": "markdown",
     "metadata": {},
     "source": [
      "# \u5f00\u901aGA API\u8bbf\u95ee\u6743\u9650"
     ]
    },
    {
     "cell_type": "markdown",
     "metadata": {},
     "source": [
      "\u9996\u5148\u8981\u4e3a\u4f60\u7684google\u8d26\u53f7\u5f00\u901aGA API\u7684\u8bbf\u95ee\u6743\u9650\uff0c\u8bbf\u95eehttps://console.developers.google.com\n",
      "* \u65b0\u5efa\u4e00\u4e2a\u9879\u76ee\n",
      "![png](http://cloga.info/files/creatproject.png)\n",
      "\u4f7f\u7528\u73b0\u6709\u7684\u9879\u76ee\u4e5f\u662f\u53ef\u4ee5\u7684\n",
      "* \u5f00\u542fGA API\n",
      "\u70b9\u51fb\u53f3\u4fa7\u7684APIS\uff0c\u5728\u5176\u4e2d\u627e\u5230Analytics API\uff0c\u70b9\u51fboff\u5f00\u542fGA API\n",
      "![png](http://cloga.info/files/enableapi)\n"
     ]
    },
    {
     "cell_type": "code",
     "collapsed": false,
     "input": [],
     "language": "python",
     "metadata": {},
     "outputs": []
    }
   ],
   "metadata": {}
  }
 ]
}