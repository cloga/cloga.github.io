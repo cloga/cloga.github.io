{
 "metadata": {
  "name": "",
  "signature": "sha256:d8c9ffb392e94990108cb8d708d420bcc765f9edb80e82a33ddd6afdd18de650"
 },
 "nbformat": 3,
 "nbformat_minor": 0,
 "worksheets": [
  {
   "cells": [
    {
     "cell_type": "markdown",
     "metadata": {},
     "source": [
      "# \u5f00\u901aGA API\u8bbf\u95ee\u6743\u9650\n",
      "\u9996\u5148\u8981\u4e3a\u4f60\u7684google\u8d26\u53f7\u5f00\u901aGA API\u7684\u8bbf\u95ee\u6743\u9650\uff0c\u8bf7\u4fdd\u8bc1\u8fd9\u4e2a\u8d26\u53f7\u540c\u65f6\u4e5f\u6709GA\u8d26\u53f7\u7684\u8bbf\u95ee\u6743\u9650\uff0c\u8bbf\u95eehttps://console.developers.google.com\n",
      "* \u65b0\u5efa\u4e00\u4e2a\u9879\u76ee\n",
      "![png](http://cloga.info/files/creatproject.png)\n",
      "\u4f7f\u7528\u73b0\u6709\u7684\u9879\u76ee\u4e5f\u662f\u53ef\u4ee5\u7684\uff0c\u70b9\u51fb\u9879\u76ee\u540d\u79f0\uff0c\u8fdb\u5165\u9879\u76ee\u4e2d\uff0c\u6211\u8fd9\u91cc\u4f7f\u7528\u7684\u9879\u76ee\u662fCloga_GA\n",
      "* \u5f00\u542fGA API\n",
      "\u70b9\u51fb\u53f3\u4fa7\u7684APIS\uff0c\u5728\u5176\u4e2d\u627e\u5230Analytics API\uff0c\u70b9\u51fboff\u5f00\u542fGA API\n",
      "![png](http://cloga.info/files/enableapi.png)\n",
      "* \u83b7\u53d6Client ID\u548cClient Secret\n",
      "\u70b9\u51fbCredentials>creat new client ID\uff0c\u6709\u4e09\u79cd\u7c7b\u578b\u53ef\u4ee5\u9009\u62e9\uff0c\u8fd9\u91cc\u6211\u4eec\u9009\u62e9installed application\uff0c\u8bb0\u4e0b\u5176\u4e2d\u7684CLIENT ID\u548cCLIENT SECRET\n",
      "![png](http://cloga.info/files/Clientid.png)\n",
      "![png](http://cloga.info/files/Clienttype.png)\n",
      "![png](http://cloga.info/files/secret.png)\n",
      "\n",
      "\u5230\u8fd9\u91ccGA\u7684API\u5c31\u5f00\u901a\u4e86\u3002"
     ]
    },
    {
     "cell_type": "markdown",
     "metadata": {},
     "source": [
      "# \u5b89\u88c5\u9700\u8981\u7684module\n",
      "\u8bfb\u53d6GA\u7684\u6570\u636e\uff0c\u8fd9\u91cc\u4f7f\u7528\u7684\u662fGoogle\u63d0\u4f9b\u7684gdata\uff0c\u867d\u7136\u5b98\u65b9\u8bf4\u660e\u4e2d\u63d0\u5230gdata\u5df2\u7ecf\u88ab\u5e9f\u5f03\u4e86\uff0c\u4e0d\u8fc7\u76ee\u524d\u4ecd\u7136\u662f\u53ef\u4ee5\u4f7f\u7528\u7684\uff0c\u6b64\u5916\uff0c\u9700\u8981\u8bb2GA\u6570\u636e\u4fdd\u5b58\u4e3aexcel\uff0c\u8fd9\u91cc\u4f7f\u7528\u7684\u662fPandas\u3002\n",
      "\n",
      "pip install pandas\n",
      "\n",
      "pip install gadata\n",
      "\n",
      "\u5728https://code.google.com/p/gdata-python-client/ \u53ef\u4ee5\u770b\u5230gdata\u7684\u8be6\u7ec6\u4fe1\u606f\n",
      "\u5728http://pandas.pydata.org/ \u53ef\u4ee5\u627e\u5230pandas\u7684\u4fe1\u606f\n",
      "#\u627e\u5230\u60f3\u8981\u67e5\u8be2\u6570\u636e\u7684view id\n",
      "\u5728\u67e5\u8be2GA\u6570\u636e\u65f6\u9700\u8981\u6307\u5b9a\u5bf9\u5e94\u7684view id\u3002\u5bf9\u4e8eGA\u6765\u8bf4\u6bcf\u4e2a\u8ddf\u8e2a\u4ee3\u7801\uff08UA-XXX\uff09\u5bf9\u5e94\u7684\u662fproperty\uff0c\u53ef\u4ee5\u7406\u89e3\u4e3a\u4e00\u4e2a\u6536\u96c6\u5230\u6570\u636e\u96c6\uff0c\u5728\u8fd9\u4e2a\u6570\u636e\u96c6\u4e0a\u53ef\u4ee5\u505a\u4e00\u4e9b\u8fc7\u6ee4\uff0c\u91cd\u5199\u7b49\u64cd\u4f5c\uff0c\u64cd\u4f5c\u540e\u4ea7\u751f\u7684\u5c31\u662f\u4e00\u4e2aview\uff0c\u56e0\u6b64\uff0cview\u662f\u4e00\u4e2a\u62a5\u544a\u96c6\u3002\n",
      "\u767b\u9646GA\u8d26\u53f7\uff0c\u70b9\u51fbadmin\n",
      "![png](http://cloga.info/files/admin.png)\n",
      "\u70b9\u51fbview setting\u627e\u5230\u5bf9\u5e94\u7684view id\n",
      "![png](http://cloga.info/files/viewid.png)\n",
      "#\u6293\u53d6GA\u6570\u636e"
     ]
    },
    {
     "cell_type": "code",
     "collapsed": false,
     "input": [
      "import gdata.analytics.client\n",
      "import pandas as pd\n",
      "SOURCE_APP_NAME = 'Cloga_GA'\n",
      "my_client = gdata.analytics.client.AnalyticsClient(source=SOURCE_APP_NAME)#\u5b9e\u4f8b\u5316GA Client\n",
      "my_client.client_login(\n",
      "    'id',#google\u8d26\u53f7\u7684\u7528\u6237\u540d\n",
      "    'pwd',#Google\u8d26\u53f7\u7684\u5bc6\u7801\n",
      "    source=SOURCE_APP_NAME,\n",
      "    service=my_client.auth_service,\n",
      "    account_type='GOOGLE'\n",
      ")\n",
      "data_query = gdata.analytics.client.DataFeedQuery({\n",
      "    'ids':'ga: viewid', #\u66ff\u6362\u4e3a\u8981\u67e5\u8be2\u7684view id\n",
      "    'dimensions':'ga:source',\n",
      "    'metrics':'ga:pageviews',\n",
      "    'start-date':'2013-5-18',\n",
      "    'end-date':'2014-10-10',\n",
      "    'prettyprint':'true'\n",
      "    })"
     ],
     "language": "python",
     "metadata": {},
     "outputs": []
    },
    {
     "cell_type": "code",
     "collapsed": false,
     "input": [],
     "language": "python",
     "metadata": {},
     "outputs": []
    },
    {
     "cell_type": "code",
     "collapsed": false,
     "input": [],
     "language": "python",
     "metadata": {},
     "outputs": []
    },
    {
     "cell_type": "code",
     "collapsed": false,
     "input": [],
     "language": "python",
     "metadata": {},
     "outputs": []
    }
   ],
   "metadata": {}
  }
 ]
}